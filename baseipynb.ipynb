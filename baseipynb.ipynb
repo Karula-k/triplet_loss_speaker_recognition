{
  "nbformat": 4,
  "nbformat_minor": 0,
  "metadata": {
    "colab": {
      "provenance": [],
      "authorship_tag": "ABX9TyMfRbuhjSxsfqBZ3CdMz/V8",
      "include_colab_link": true
    },
    "kernelspec": {
      "name": "python3",
      "display_name": "Python 3"
    },
    "language_info": {
      "name": "python"
    }
  },
  "cells": [
    {
      "cell_type": "markdown",
      "metadata": {
        "id": "view-in-github",
        "colab_type": "text"
      },
      "source": [
        "<a href=\"https://colab.research.google.com/github/Karula-k/triplet_loss_speaker_recognition/blob/main/baseipynb.ipynb\" target=\"_parent\"><img src=\"https://colab.research.google.com/assets/colab-badge.svg\" alt=\"Open In Colab\"/></a>"
      ]
    },
    {
      "cell_type": "markdown",
      "source": [
        "> buat alur\n",
        "\n",
        "> model biasa\n",
        "\n",
        ">~~model CNN~~\n",
        "\n",
        ">~~model LSTM versi biasa~~\n",
        "\n",
        ">~~save cart and tensorboard~~\n",
        "\n",
        "> ~~ga buat cari best case~~\n",
        "\n",
        "> besok pagi jam 8 kelar\n",
        "\n",
        ">masalah model shape belum kelar"
      ],
      "metadata": {
        "id": "gPlhrd0tIC6Y"
      }
    },
    {
      "cell_type": "code",
      "execution_count": 1,
      "metadata": {
        "colab": {
          "base_uri": "https://localhost:8080/"
        },
        "id": "4ROHGafqchfq",
        "outputId": "1e5af8f9-3583-4ba1-dea1-fd985543e569"
      },
      "outputs": [
        {
          "output_type": "stream",
          "name": "stdout",
          "text": [
            "Mounted at /content/drive\n"
          ]
        }
      ],
      "source": [
        "from google.colab import drive\n",
        "drive.mount('/content/drive')"
      ]
    },
    {
      "cell_type": "code",
      "source": [
        "import os\n",
        "import numpy as np\n",
        "import librosa\n",
        "import soundfile as sf\n",
        "import tensorflow as tf\n",
        "import glob\n",
        "import random\n",
        "import matplotlib.pyplot as plt\n",
        "from sklearn.model_selection import train_test_split\n",
        "from sklearn.preprocessing import LabelEncoder"
      ],
      "metadata": {
        "id": "JZAXK-PPdCvh"
      },
      "execution_count": 2,
      "outputs": []
    },
    {
      "cell_type": "code",
      "source": [
        "path = \"/content/drive/MyDrive/Colab Notebooks/self-data\""
      ],
      "metadata": {
        "id": "wYr7VGwYimXE"
      },
      "execution_count": 3,
      "outputs": []
    },
    {
      "cell_type": "code",
      "source": [
        "# #testing the image for refrence\n",
        "# y, sr = librosa.load('/content/drive/MyDrive/Colab Notebooks/self-data/Sri mulyani/srimulyani-50.wav')\n",
        "# stft_db = np.abs(librosa.stft(y))\n",
        "# plt.figure(figsize=(14, 9))\n",
        "\n",
        "# plt.figure(1)\n",
        "# plt.subplot(211)\n",
        "# plt.title('Audioform')\n",
        "# librosa.display.waveshow(y, sr=sr)\n",
        "\n",
        "# plt.subplot(212)\n",
        "# plt.title('Spectrogram')\n",
        "# librosa.display.specshow(librosa.amplitude_to_db(stft_db,ref=np.max), y_axis='log',sr=sr, x_axis='time')"
      ],
      "metadata": {
        "id": "5KQPVqt1PQ6n"
      },
      "execution_count": 4,
      "outputs": []
    },
    {
      "cell_type": "code",
      "source": [
        "class data_preparation:\n",
        "  def __init__(self,dir,extractType,split_val):\n",
        "    self.dir = dir\n",
        "    self.extractType = extractType\n",
        "    self.split_val = split_val\n",
        "  def extract_features(self,audio_file):\n",
        "    \"\"\"Extract MFCC features from an audio file, shape=(TIME, MFCC).\"\"\"\n",
        "    waveform, sample_rate = sf.read(audio_file)\n",
        "     # Convert to mono-channel.\n",
        "    if len(waveform.shape) == 2:\n",
        "        waveform = librosa.to_mono(waveform.transpose())\n",
        "\n",
        "    # Convert to 16kHz.\n",
        "    if sample_rate != 16000:\n",
        "        waveform = librosa.resample(waveform, orig_sr=sample_rate, target_sr= 16000)\n",
        "    if self.extractType == \"concanate\":\n",
        "      features_mfcc = librosa.feature.mfcc(y=waveform, sr=sample_rate, n_mfcc=40).transpose()\n",
        "      features_LPC = librosa.core.lpc(waveform,order=39)\n",
        "      return np.vstack((features_LPC,features_mfcc))\n",
        "    else:\n",
        "      features = librosa.feature.mfcc(y=waveform, sr=sample_rate, n_mfcc=40)\n",
        "      return features.transpose()\n",
        "  def get_dataset(self):\n",
        "    \"\"\"Get the dict from speaker to list of utterances for dataset.\"\"\"\n",
        "    wav_files = glob.glob(os.path.join(self.dir,\"*/*.wav\"))\n",
        "    spk_to_utts = []\n",
        "    labels = []\n",
        "    for wav_file in wav_files:\n",
        "        basename = os.path.basename(wav_file)\n",
        "        split_name = basename.split(\"-\")\n",
        "        spk = split_name[0]\n",
        "        spk_to_utts.append(self.extract_features(wav_file))\n",
        "        labels.append(spk)\n",
        "    return spk_to_utts,labels\n",
        "  def prepare_targets(self,y):\n",
        "    le = LabelEncoder()\n",
        "    le.fit(y)\n",
        "    y_train_enc = le.transform(y)\n",
        "    return y_train_enc\n",
        "  def split_data(self):\n",
        "    x,y = self.get_dataset()\n",
        "    y = self.prepare_targets(y)\n",
        "    X_train, X_test, y_train, y_test = train_test_split(x, y, test_size=self.split_val)\n",
        "    X_train, X_validation, y_train, y_validation = train_test_split(X_train, y_train, test_size=self.split_val)\n",
        "    del x, y\n",
        "    X_train = np.array(X_train)\n",
        "    X_test = np.array(X_test)\n",
        "    X_validation = np.array(X_validation)\n",
        "    return X_train, X_test,X_validation, y_train, y_validation, y_test"
      ],
      "metadata": {
        "id": "mPlJVzR2w0ds"
      },
      "execution_count": 5,
      "outputs": []
    },
    {
      "cell_type": "code",
      "source": [
        "# Function to create the forward model\n",
        "def create_forward_lstm_model(input_shape):\n",
        "    model = tf.keras.models.Sequential()\n",
        "    model.add(tf.keras.layers.LSTM(64, return_sequences=True, input_shape=input_shape))\n",
        "    return model\n",
        "\n",
        "# Function to create the backward model\n",
        "def create_backward_lstm_model(input_shape):\n",
        "    model = tf.keras.models.Sequential()\n",
        "    model.add(tf.keras.layers.LSTM(64, return_sequences=True, input_shape=input_shape, go_backwards=True))\n",
        "    return model\n",
        "\n",
        "# Combine the forward and backward models with fully connected layers and L2 normalization\n",
        "def create_combined_model(input_shape):\n",
        "    \"\"\"https://sci-hub.ee/https://ieeexplore.ieee.org/abstract/document/7953194\"\"\"\n",
        "    forward_model = create_forward_lstm_model(input_shape)\n",
        "    backward_model = create_backward_lstm_model(input_shape)\n",
        "\n",
        "    input_layer = tf.keras.layers.Input(shape=input_shape)\n",
        "\n",
        "    # Get the output from the forward and backward models\n",
        "    forward_output = forward_model(input_layer)\n",
        "    backward_output = backward_model(input_layer)\n",
        "    concatenated_output =  tf.keras.layers.concatenate([forward_output, backward_output],axis=1)\n",
        "    # Add fully connected layers\n",
        "    x = tf.keras.layers.Dense(128, activation='relu')(concatenated_output)\n",
        "    x = tf.keras.layers.Dense(64, activation='relu')(x)\n",
        "\n",
        "    # Add L2 normalization\n",
        "    x = tf.keras.layers.LayerNormalization()(x)\n",
        "    x = tf.keras.layers.Dense(5, activation='softmax')(x)\n",
        "\n",
        "    # Create the combined model\n",
        "    combined_model = tf.keras.models.Model(inputs=input_layer, outputs=x)\n",
        "\n",
        "    return combined_model"
      ],
      "metadata": {
        "id": "yjRuRTu__l6h"
      },
      "execution_count": 30,
      "outputs": []
    },
    {
      "cell_type": "code",
      "source": [
        "class OneD_CNN_Triplet(tf.keras.Model):\n",
        "    \"\"\"https://github.com/iPRoBe-lab/1D-Triplet-CNN/blob/master/models/OneD_Triplet_CNN.py\"\"\"\n",
        "    def __init__(self, num_classes, input_shape=(313, 40, 1)):\n",
        "        super().__init__()\n",
        "        self.features = tf.keras.Sequential([\n",
        "            tf.keras.layers.Input(shape=input_shape),\n",
        "            tf.keras.layers.ZeroPadding2D(padding=((0, 0), (2, 2))),\n",
        "            tf.keras.layers.Conv2D(16, (3, 1), strides=1, padding=\"valid\", dilation_rate=(2, 1), activation='selu'),\n",
        "            tf.keras.layers.Conv2D(32, (3, 1), strides=1, padding=\"valid\", dilation_rate=(2, 1), activation='selu'),\n",
        "            tf.keras.layers.Conv2D(64, (7, 1), padding=\"valid\", dilation_rate=(2, 1), activation='selu'),\n",
        "            tf.keras.layers.ZeroPadding2D(padding=((0, 0), (0, 1))),\n",
        "            tf.keras.layers.Conv2D(128, (9, 1), strides=1, dilation_rate=(3, 1), activation='selu'),\n",
        "        ])\n",
        "        self.regularization = tf.keras.Sequential([\n",
        "            tf.keras.layers.AlphaDropout(0.25)\n",
        "        ])\n",
        "\n",
        "        self.fc = tf.keras.Sequential([\n",
        "            tf.keras.layers.GlobalAveragePooling2D(),\n",
        "            tf.keras.layers.Dense(num_classes, activation='softmax')\n",
        "        ])\n",
        "\n",
        "    def call(self, x):\n",
        "        o = self.features(x)\n",
        "        o = self.regularization(o)\n",
        "        o = self.fc(o)\n",
        "        return o"
      ],
      "metadata": {
        "id": "1cNpAF3fz7Fe"
      },
      "execution_count": 7,
      "outputs": []
    },
    {
      "cell_type": "code",
      "source": [
        "def model_type(model):\n",
        "  if model =='LSTM':\n",
        "    return tf.keras.Sequential([\n",
        "    tf.keras.layers.LSTM(64,return_sequences=True, input_shape=(None, 40)),\n",
        "    tf.keras.layers.LSTM(64,return_sequences=True,activation='relu'),\n",
        "    tf.keras.layers.LSTM(64,activation='relu'),\n",
        "    tf.keras.layers.Dense(5, activation='softmax'),\n",
        "])\n",
        "  elif model =='OneD_CNN':\n",
        "    model = OneD_CNN_Triplet(num_classes=5)\n",
        "    model.build(input_shape=(None,313, 40, 1))\n",
        "    return model\n",
        "  elif model == 'TRISTOUNET':\n",
        "    input_dim = (None, 40)\n",
        "    model = create_combined_model(input_dim)\n",
        "    return model\n",
        "  else:\n",
        "      return tf.keras.Sequential([\n",
        "    tf.keras.layers.Input(shape=(None,40)),\n",
        "    tf.keras.layers.Dense(64, activation='relu'),\n",
        "    tf.keras.layers.Dense(128, activation='relu'),\n",
        "    tf.keras.layers.Dense(64, activation='relu'),\n",
        "    tf.keras.layers.Dense(32, activation='relu'),\n",
        "    tf.keras.layers.Dropout(0.3),\n",
        "    tf.keras.layers.Dense(5, activation='softmax'),\n",
        "])"
      ],
      "metadata": {
        "id": "mF2vkwfk3ld3"
      },
      "execution_count": 56,
      "outputs": []
    },
    {
      "cell_type": "code",
      "source": [
        "def main(extract_type,model_name,split,lr):\n",
        "  lr = 1 * 10**(-lr)\n",
        "  print('='*10,'data preperation')\n",
        "  data = data_preparation(path,extract_type,split)\n",
        "  X_train, X_test,X_validation, y_train, y_validation, y_test =  data.split_data()\n",
        "  name = f'{extract_type} {model_name}'\n",
        "  tb_callback = tf.keras.callbacks.TensorBoard(log_dir=f'./Graph/{name}', histogram_freq=0,\n",
        "        write_graph=True, write_images=True)\n",
        "  print('='*10,'training')\n",
        "  model = model_type(model_name)\n",
        "  model.compile(loss='sparse_categorical_crossentropy', optimizer=tf.keras.optimizers.Adam(learning_rate=lr), metrics=['accuracy'])\n",
        "  history = model.fit(X_train, y_train, validation_data=(X_validation, y_validation), batch_size=32, epochs=50,callbacks=[tb_callback])\n",
        "  test_loss, test_accuracy = model.evaluate(X_test, y_test)\n",
        "  return history.history['accuracy'], test_loss, test_accuracy"
      ],
      "metadata": {
        "id": "iFlOV3_Y2ESx"
      },
      "execution_count": 9,
      "outputs": []
    },
    {
      "cell_type": "code",
      "source": [
        "data = data_preparation(path,'MFCC',0.2)"
      ],
      "metadata": {
        "id": "fd-n-wpM0p70"
      },
      "execution_count": 10,
      "outputs": []
    },
    {
      "cell_type": "code",
      "source": [
        "X_train, X_test,X_validation, y_train, y_validation, y_test =  data.split_data()"
      ],
      "metadata": {
        "id": "phUVnRbJ0u_9"
      },
      "execution_count": 11,
      "outputs": []
    },
    {
      "cell_type": "code",
      "source": [
        "X_train.shape"
      ],
      "metadata": {
        "colab": {
          "base_uri": "https://localhost:8080/"
        },
        "id": "s0V-_TOH09gt",
        "outputId": "93d98280-fef0-48e4-eaf1-e6be9ce9e57a"
      },
      "execution_count": 12,
      "outputs": [
        {
          "output_type": "execute_result",
          "data": {
            "text/plain": [
              "(284, 313, 40)"
            ]
          },
          "metadata": {},
          "execution_count": 12
        }
      ]
    },
    {
      "cell_type": "code",
      "source": [
        "y_train.shape"
      ],
      "metadata": {
        "colab": {
          "base_uri": "https://localhost:8080/"
        },
        "id": "XxlJrSIY1Amu",
        "outputId": "bf9500d3-959c-43ff-be81-0dec69db6b88"
      },
      "execution_count": 13,
      "outputs": [
        {
          "output_type": "execute_result",
          "data": {
            "text/plain": [
              "(284,)"
            ]
          },
          "metadata": {},
          "execution_count": 13
        }
      ]
    },
    {
      "cell_type": "code",
      "source": [
        "model = model_type('LSTM')\n",
        "model.summary()"
      ],
      "metadata": {
        "colab": {
          "base_uri": "https://localhost:8080/"
        },
        "id": "727WJqURh3-e",
        "outputId": "ad67e9eb-860b-44ae-c3d5-13d6beb6db4c"
      },
      "execution_count": 60,
      "outputs": [
        {
          "output_type": "stream",
          "name": "stdout",
          "text": [
            "Model: \"sequential_22\"\n",
            "_________________________________________________________________\n",
            " Layer (type)                Output Shape              Param #   \n",
            "=================================================================\n",
            " lstm_10 (LSTM)              (None, None, 64)          26880     \n",
            "                                                                 \n",
            " lstm_11 (LSTM)              (None, None, 64)          33024     \n",
            "                                                                 \n",
            " lstm_12 (LSTM)              (None, 64)                33024     \n",
            "                                                                 \n",
            " dense_60 (Dense)            (None, 5)                 325       \n",
            "                                                                 \n",
            "=================================================================\n",
            "Total params: 93253 (364.27 KB)\n",
            "Trainable params: 93253 (364.27 KB)\n",
            "Non-trainable params: 0 (0.00 Byte)\n",
            "_________________________________________________________________\n"
          ]
        }
      ]
    },
    {
      "cell_type": "code",
      "source": [
        "model.compile(loss='sparse_categorical_crossentropy', optimizer=tf.keras.optimizers.Adam(learning_rate=1e-3), metrics=['accuracy'])\n",
        "history = model.fit(X_train, y_train, validation_data=(X_validation, y_validation), batch_size=32, epochs=50)\n",
        "test_loss, test_accuracy = model.evaluate(X_test, y_test)"
      ],
      "metadata": {
        "colab": {
          "base_uri": "https://localhost:8080/"
        },
        "id": "g3bC3WxRgEJM",
        "outputId": "3dd45124-1508-4997-afd7-4bc1050d3b2c"
      },
      "execution_count": 61,
      "outputs": [
        {
          "output_type": "stream",
          "name": "stdout",
          "text": [
            "Epoch 1/50\n",
            "9/9 [==============================] - 71s 857ms/step - loss: 1.5510 - accuracy: 0.3873 - val_loss: 138.5885 - val_accuracy: 0.4722\n",
            "Epoch 2/50\n",
            "9/9 [==============================] - 4s 423ms/step - loss: 4.2614 - accuracy: 0.5915 - val_loss: 1.3519 - val_accuracy: 0.5694\n",
            "Epoch 3/50\n",
            "9/9 [==============================] - 4s 422ms/step - loss: 1.3135 - accuracy: 0.6655 - val_loss: 1.3541 - val_accuracy: 0.6111\n",
            "Epoch 4/50\n",
            "9/9 [==============================] - 5s 587ms/step - loss: 7.8266 - accuracy: 0.6549 - val_loss: 26.3302 - val_accuracy: 0.4306\n",
            "Epoch 5/50\n",
            "9/9 [==============================] - 5s 592ms/step - loss: nan - accuracy: 0.2535 - val_loss: nan - val_accuracy: 0.1806\n",
            "Epoch 6/50\n",
            "9/9 [==============================] - 4s 416ms/step - loss: nan - accuracy: 0.2042 - val_loss: nan - val_accuracy: 0.1806\n",
            "Epoch 7/50\n",
            "9/9 [==============================] - 4s 422ms/step - loss: nan - accuracy: 0.2042 - val_loss: nan - val_accuracy: 0.1806\n",
            "Epoch 8/50\n",
            "9/9 [==============================] - 6s 686ms/step - loss: nan - accuracy: 0.2042 - val_loss: nan - val_accuracy: 0.1806\n",
            "Epoch 9/50\n",
            "9/9 [==============================] - 5s 497ms/step - loss: nan - accuracy: 0.2042 - val_loss: nan - val_accuracy: 0.1806\n",
            "Epoch 10/50\n",
            "9/9 [==============================] - 4s 424ms/step - loss: nan - accuracy: 0.2042 - val_loss: nan - val_accuracy: 0.1806\n",
            "Epoch 11/50\n",
            "9/9 [==============================] - 4s 419ms/step - loss: nan - accuracy: 0.2042 - val_loss: nan - val_accuracy: 0.1806\n",
            "Epoch 12/50\n",
            "9/9 [==============================] - 7s 766ms/step - loss: nan - accuracy: 0.2042 - val_loss: nan - val_accuracy: 0.1806\n",
            "Epoch 13/50\n",
            "9/9 [==============================] - 4s 418ms/step - loss: nan - accuracy: 0.2042 - val_loss: nan - val_accuracy: 0.1806\n",
            "Epoch 14/50\n",
            "9/9 [==============================] - 4s 422ms/step - loss: nan - accuracy: 0.2042 - val_loss: nan - val_accuracy: 0.1806\n",
            "Epoch 15/50\n",
            "9/9 [==============================] - 5s 550ms/step - loss: nan - accuracy: 0.2042 - val_loss: nan - val_accuracy: 0.1806\n",
            "Epoch 16/50\n",
            "9/9 [==============================] - 6s 640ms/step - loss: nan - accuracy: 0.2042 - val_loss: nan - val_accuracy: 0.1806\n",
            "Epoch 17/50\n",
            "9/9 [==============================] - 4s 413ms/step - loss: nan - accuracy: 0.2042 - val_loss: nan - val_accuracy: 0.1806\n",
            "Epoch 18/50\n",
            "9/9 [==============================] - 4s 414ms/step - loss: nan - accuracy: 0.2042 - val_loss: nan - val_accuracy: 0.1806\n",
            "Epoch 19/50\n",
            "9/9 [==============================] - 5s 619ms/step - loss: nan - accuracy: 0.2042 - val_loss: nan - val_accuracy: 0.1806\n",
            "Epoch 20/50\n",
            "9/9 [==============================] - 5s 567ms/step - loss: nan - accuracy: 0.2042 - val_loss: nan - val_accuracy: 0.1806\n",
            "Epoch 21/50\n",
            "9/9 [==============================] - 4s 421ms/step - loss: nan - accuracy: 0.2042 - val_loss: nan - val_accuracy: 0.1806\n",
            "Epoch 22/50\n",
            "9/9 [==============================] - 4s 425ms/step - loss: nan - accuracy: 0.2042 - val_loss: nan - val_accuracy: 0.1806\n",
            "Epoch 23/50\n",
            "9/9 [==============================] - 6s 721ms/step - loss: nan - accuracy: 0.2042 - val_loss: nan - val_accuracy: 0.1806\n",
            "Epoch 24/50\n",
            "9/9 [==============================] - 4s 462ms/step - loss: nan - accuracy: 0.2042 - val_loss: nan - val_accuracy: 0.1806\n",
            "Epoch 25/50\n",
            "9/9 [==============================] - 4s 424ms/step - loss: nan - accuracy: 0.2042 - val_loss: nan - val_accuracy: 0.1806\n",
            "Epoch 26/50\n",
            "9/9 [==============================] - 4s 476ms/step - loss: nan - accuracy: 0.2042 - val_loss: nan - val_accuracy: 0.1806\n",
            "Epoch 27/50\n",
            "9/9 [==============================] - 6s 713ms/step - loss: nan - accuracy: 0.2042 - val_loss: nan - val_accuracy: 0.1806\n",
            "Epoch 28/50\n",
            "9/9 [==============================] - 4s 418ms/step - loss: nan - accuracy: 0.2042 - val_loss: nan - val_accuracy: 0.1806\n",
            "Epoch 29/50\n",
            "9/9 [==============================] - 4s 421ms/step - loss: nan - accuracy: 0.2042 - val_loss: nan - val_accuracy: 0.1806\n",
            "Epoch 30/50\n",
            "9/9 [==============================] - 5s 576ms/step - loss: nan - accuracy: 0.2042 - val_loss: nan - val_accuracy: 0.1806\n",
            "Epoch 31/50\n",
            "9/9 [==============================] - 6s 604ms/step - loss: nan - accuracy: 0.2042 - val_loss: nan - val_accuracy: 0.1806\n",
            "Epoch 32/50\n",
            "9/9 [==============================] - 4s 421ms/step - loss: nan - accuracy: 0.2042 - val_loss: nan - val_accuracy: 0.1806\n",
            "Epoch 33/50\n",
            "9/9 [==============================] - 4s 415ms/step - loss: nan - accuracy: 0.2042 - val_loss: nan - val_accuracy: 0.1806\n",
            "Epoch 34/50\n",
            "9/9 [==============================] - 6s 675ms/step - loss: nan - accuracy: 0.2042 - val_loss: nan - val_accuracy: 0.1806\n",
            "Epoch 35/50\n",
            "9/9 [==============================] - 5s 510ms/step - loss: nan - accuracy: 0.2042 - val_loss: nan - val_accuracy: 0.1806\n",
            "Epoch 36/50\n",
            "9/9 [==============================] - 4s 420ms/step - loss: nan - accuracy: 0.2042 - val_loss: nan - val_accuracy: 0.1806\n",
            "Epoch 37/50\n",
            "9/9 [==============================] - 4s 419ms/step - loss: nan - accuracy: 0.2042 - val_loss: nan - val_accuracy: 0.1806\n",
            "Epoch 38/50\n",
            "9/9 [==============================] - 7s 759ms/step - loss: nan - accuracy: 0.2042 - val_loss: nan - val_accuracy: 0.1806\n",
            "Epoch 39/50\n",
            "9/9 [==============================] - 4s 415ms/step - loss: nan - accuracy: 0.2042 - val_loss: nan - val_accuracy: 0.1806\n",
            "Epoch 40/50\n",
            "9/9 [==============================] - 4s 422ms/step - loss: nan - accuracy: 0.2042 - val_loss: nan - val_accuracy: 0.1806\n",
            "Epoch 41/50\n",
            "9/9 [==============================] - 5s 519ms/step - loss: nan - accuracy: 0.2042 - val_loss: nan - val_accuracy: 0.1806\n",
            "Epoch 42/50\n",
            "9/9 [==============================] - 6s 664ms/step - loss: nan - accuracy: 0.2042 - val_loss: nan - val_accuracy: 0.1806\n",
            "Epoch 43/50\n",
            "9/9 [==============================] - 4s 421ms/step - loss: nan - accuracy: 0.2042 - val_loss: nan - val_accuracy: 0.1806\n",
            "Epoch 44/50\n",
            "9/9 [==============================] - 4s 422ms/step - loss: nan - accuracy: 0.2042 - val_loss: nan - val_accuracy: 0.1806\n",
            "Epoch 45/50\n",
            "9/9 [==============================] - 5s 631ms/step - loss: nan - accuracy: 0.2042 - val_loss: nan - val_accuracy: 0.1806\n",
            "Epoch 46/50\n",
            "9/9 [==============================] - 5s 561ms/step - loss: nan - accuracy: 0.2042 - val_loss: nan - val_accuracy: 0.1806\n",
            "Epoch 47/50\n",
            "9/9 [==============================] - 4s 418ms/step - loss: nan - accuracy: 0.2042 - val_loss: nan - val_accuracy: 0.1806\n",
            "Epoch 48/50\n",
            "9/9 [==============================] - 4s 415ms/step - loss: nan - accuracy: 0.2042 - val_loss: nan - val_accuracy: 0.1806\n",
            "Epoch 49/50\n",
            "9/9 [==============================] - 6s 697ms/step - loss: nan - accuracy: 0.2042 - val_loss: nan - val_accuracy: 0.1806\n",
            "Epoch 50/50\n",
            "9/9 [==============================] - 5s 481ms/step - loss: nan - accuracy: 0.2042 - val_loss: nan - val_accuracy: 0.1806\n",
            "3/3 [==============================] - 0s 102ms/step - loss: nan - accuracy: 0.2000\n"
          ]
        }
      ]
    },
    {
      "cell_type": "code",
      "source": [
        "test_loss, test_accuracy = model.evaluate(X_test, y_test)"
      ],
      "metadata": {
        "colab": {
          "base_uri": "https://localhost:8080/"
        },
        "id": "SKyAyADImpA9",
        "outputId": "0de45f03-f123-43a6-af1e-781fc6417ae4"
      },
      "execution_count": 62,
      "outputs": [
        {
          "output_type": "stream",
          "name": "stdout",
          "text": [
            "3/3 [==============================] - 0s 98ms/step - loss: nan - accuracy: 0.2000\n"
          ]
        }
      ]
    },
    {
      "cell_type": "code",
      "source": [
        "a = main('dense','MFCC',0.8,3)"
      ],
      "metadata": {
        "colab": {
          "base_uri": "https://localhost:8080/",
          "height": 1000
        },
        "id": "pM84qxWNNP3F",
        "outputId": "2d430489-955f-4180-9c1d-8f75fd11c651"
      },
      "execution_count": null,
      "outputs": [
        {
          "output_type": "stream",
          "name": "stdout",
          "text": [
            "========== data preperation\n",
            "========== training\n",
            "Epoch 1/50\n"
          ]
        },
        {
          "output_type": "error",
          "ename": "InvalidArgumentError",
          "evalue": "ignored",
          "traceback": [
            "\u001b[0;31m---------------------------------------------------------------------------\u001b[0m",
            "\u001b[0;31mInvalidArgumentError\u001b[0m                      Traceback (most recent call last)",
            "\u001b[0;32m<ipython-input-21-48ae2aee800e>\u001b[0m in \u001b[0;36m<cell line: 1>\u001b[0;34m()\u001b[0m\n\u001b[0;32m----> 1\u001b[0;31m \u001b[0ma\u001b[0m \u001b[0;34m=\u001b[0m \u001b[0mmain\u001b[0m\u001b[0;34m(\u001b[0m\u001b[0;34m'dense'\u001b[0m\u001b[0;34m,\u001b[0m\u001b[0;34m'MFCC'\u001b[0m\u001b[0;34m,\u001b[0m\u001b[0;36m0.8\u001b[0m\u001b[0;34m,\u001b[0m\u001b[0;36m3\u001b[0m\u001b[0;34m)\u001b[0m\u001b[0;34m\u001b[0m\u001b[0;34m\u001b[0m\u001b[0m\n\u001b[0m",
            "\u001b[0;32m<ipython-input-20-ec4b288c97b4>\u001b[0m in \u001b[0;36mmain\u001b[0;34m(extract_type, model_name, split, lr)\u001b[0m\n\u001b[1;32m     10\u001b[0m   \u001b[0mmodel\u001b[0m \u001b[0;34m=\u001b[0m \u001b[0mmodel_type\u001b[0m\u001b[0;34m(\u001b[0m\u001b[0mmodel_name\u001b[0m\u001b[0;34m)\u001b[0m\u001b[0;34m\u001b[0m\u001b[0;34m\u001b[0m\u001b[0m\n\u001b[1;32m     11\u001b[0m   \u001b[0mmodel\u001b[0m\u001b[0;34m.\u001b[0m\u001b[0mcompile\u001b[0m\u001b[0;34m(\u001b[0m\u001b[0mloss\u001b[0m\u001b[0;34m=\u001b[0m\u001b[0;34m'sparse_categorical_crossentropy'\u001b[0m\u001b[0;34m,\u001b[0m \u001b[0moptimizer\u001b[0m\u001b[0;34m=\u001b[0m\u001b[0mtf\u001b[0m\u001b[0;34m.\u001b[0m\u001b[0mkeras\u001b[0m\u001b[0;34m.\u001b[0m\u001b[0moptimizers\u001b[0m\u001b[0;34m.\u001b[0m\u001b[0mAdam\u001b[0m\u001b[0;34m(\u001b[0m\u001b[0mlearning_rate\u001b[0m\u001b[0;34m=\u001b[0m\u001b[0mlr\u001b[0m\u001b[0;34m)\u001b[0m\u001b[0;34m,\u001b[0m \u001b[0mmetrics\u001b[0m\u001b[0;34m=\u001b[0m\u001b[0;34m[\u001b[0m\u001b[0;34m'accuracy'\u001b[0m\u001b[0;34m]\u001b[0m\u001b[0;34m)\u001b[0m\u001b[0;34m\u001b[0m\u001b[0;34m\u001b[0m\u001b[0m\n\u001b[0;32m---> 12\u001b[0;31m   \u001b[0mhistory\u001b[0m \u001b[0;34m=\u001b[0m \u001b[0mmodel\u001b[0m\u001b[0;34m.\u001b[0m\u001b[0mfit\u001b[0m\u001b[0;34m(\u001b[0m\u001b[0mX_train\u001b[0m\u001b[0;34m,\u001b[0m \u001b[0my_train\u001b[0m\u001b[0;34m,\u001b[0m \u001b[0mvalidation_data\u001b[0m\u001b[0;34m=\u001b[0m\u001b[0;34m(\u001b[0m\u001b[0mX_validation\u001b[0m\u001b[0;34m,\u001b[0m \u001b[0my_validation\u001b[0m\u001b[0;34m)\u001b[0m\u001b[0;34m,\u001b[0m \u001b[0mbatch_size\u001b[0m\u001b[0;34m=\u001b[0m\u001b[0;36m32\u001b[0m\u001b[0;34m,\u001b[0m \u001b[0mepochs\u001b[0m\u001b[0;34m=\u001b[0m\u001b[0;36m50\u001b[0m\u001b[0;34m,\u001b[0m\u001b[0mcallbacks\u001b[0m\u001b[0;34m=\u001b[0m\u001b[0;34m[\u001b[0m\u001b[0mtb_callback\u001b[0m\u001b[0;34m]\u001b[0m\u001b[0;34m)\u001b[0m\u001b[0;34m\u001b[0m\u001b[0;34m\u001b[0m\u001b[0m\n\u001b[0m\u001b[1;32m     13\u001b[0m   \u001b[0mtest_loss\u001b[0m\u001b[0;34m,\u001b[0m \u001b[0mtest_accuracy\u001b[0m \u001b[0;34m=\u001b[0m \u001b[0mmodel\u001b[0m\u001b[0;34m.\u001b[0m\u001b[0mevaluate\u001b[0m\u001b[0;34m(\u001b[0m\u001b[0mX_test\u001b[0m\u001b[0;34m,\u001b[0m \u001b[0my_test\u001b[0m\u001b[0;34m)\u001b[0m\u001b[0;34m\u001b[0m\u001b[0;34m\u001b[0m\u001b[0m\n\u001b[1;32m     14\u001b[0m   \u001b[0;32mreturn\u001b[0m \u001b[0mhistory\u001b[0m\u001b[0;34m.\u001b[0m\u001b[0mhistory\u001b[0m\u001b[0;34m[\u001b[0m\u001b[0;34m'accuracy'\u001b[0m\u001b[0;34m]\u001b[0m\u001b[0;34m,\u001b[0m \u001b[0mtest_loss\u001b[0m\u001b[0;34m,\u001b[0m \u001b[0mtest_accuracy\u001b[0m\u001b[0;34m\u001b[0m\u001b[0;34m\u001b[0m\u001b[0m\n",
            "\u001b[0;32m/usr/local/lib/python3.10/dist-packages/keras/src/utils/traceback_utils.py\u001b[0m in \u001b[0;36merror_handler\u001b[0;34m(*args, **kwargs)\u001b[0m\n\u001b[1;32m     68\u001b[0m             \u001b[0;31m# To get the full stack trace, call:\u001b[0m\u001b[0;34m\u001b[0m\u001b[0;34m\u001b[0m\u001b[0m\n\u001b[1;32m     69\u001b[0m             \u001b[0;31m# `tf.debugging.disable_traceback_filtering()`\u001b[0m\u001b[0;34m\u001b[0m\u001b[0;34m\u001b[0m\u001b[0m\n\u001b[0;32m---> 70\u001b[0;31m             \u001b[0;32mraise\u001b[0m \u001b[0me\u001b[0m\u001b[0;34m.\u001b[0m\u001b[0mwith_traceback\u001b[0m\u001b[0;34m(\u001b[0m\u001b[0mfiltered_tb\u001b[0m\u001b[0;34m)\u001b[0m \u001b[0;32mfrom\u001b[0m \u001b[0;32mNone\u001b[0m\u001b[0;34m\u001b[0m\u001b[0;34m\u001b[0m\u001b[0m\n\u001b[0m\u001b[1;32m     71\u001b[0m         \u001b[0;32mfinally\u001b[0m\u001b[0;34m:\u001b[0m\u001b[0;34m\u001b[0m\u001b[0;34m\u001b[0m\u001b[0m\n\u001b[1;32m     72\u001b[0m             \u001b[0;32mdel\u001b[0m \u001b[0mfiltered_tb\u001b[0m\u001b[0;34m\u001b[0m\u001b[0;34m\u001b[0m\u001b[0m\n",
            "\u001b[0;32m/usr/local/lib/python3.10/dist-packages/tensorflow/python/eager/execute.py\u001b[0m in \u001b[0;36mquick_execute\u001b[0;34m(op_name, num_outputs, inputs, attrs, ctx, name)\u001b[0m\n\u001b[1;32m     58\u001b[0m         \u001b[0;32mfor\u001b[0m \u001b[0mt\u001b[0m \u001b[0;32min\u001b[0m \u001b[0minputs\u001b[0m\u001b[0;34m\u001b[0m\u001b[0;34m\u001b[0m\u001b[0m\n\u001b[1;32m     59\u001b[0m     ]\n\u001b[0;32m---> 60\u001b[0;31m     tensors = pywrap_tfe.TFE_Py_Execute(ctx._handle, device_name, op_name,\n\u001b[0m\u001b[1;32m     61\u001b[0m                                         inputs, attrs, num_outputs)\n\u001b[1;32m     62\u001b[0m   \u001b[0;32mexcept\u001b[0m \u001b[0mcore\u001b[0m\u001b[0;34m.\u001b[0m\u001b[0m_NotOkStatusException\u001b[0m \u001b[0;32mas\u001b[0m \u001b[0me\u001b[0m\u001b[0;34m:\u001b[0m\u001b[0;34m\u001b[0m\u001b[0;34m\u001b[0m\u001b[0m\n",
            "\u001b[0;31mInvalidArgumentError\u001b[0m: Graph execution error:\n\nDetected at node sparse_categorical_crossentropy/SparseSoftmaxCrossEntropyWithLogits/SparseSoftmaxCrossEntropyWithLogits defined at (most recent call last):\n  File \"/usr/lib/python3.10/runpy.py\", line 196, in _run_module_as_main\n\n  File \"/usr/lib/python3.10/runpy.py\", line 86, in _run_code\n\n  File \"/usr/local/lib/python3.10/dist-packages/colab_kernel_launcher.py\", line 37, in <module>\n\n  File \"/usr/local/lib/python3.10/dist-packages/traitlets/config/application.py\", line 992, in launch_instance\n\n  File \"/usr/local/lib/python3.10/dist-packages/ipykernel/kernelapp.py\", line 619, in start\n\n  File \"/usr/local/lib/python3.10/dist-packages/tornado/platform/asyncio.py\", line 195, in start\n\n  File \"/usr/lib/python3.10/asyncio/base_events.py\", line 603, in run_forever\n\n  File \"/usr/lib/python3.10/asyncio/base_events.py\", line 1909, in _run_once\n\n  File \"/usr/lib/python3.10/asyncio/events.py\", line 80, in _run\n\n  File \"/usr/local/lib/python3.10/dist-packages/tornado/ioloop.py\", line 685, in <lambda>\n\n  File \"/usr/local/lib/python3.10/dist-packages/tornado/ioloop.py\", line 738, in _run_callback\n\n  File \"/usr/local/lib/python3.10/dist-packages/tornado/gen.py\", line 825, in inner\n\n  File \"/usr/local/lib/python3.10/dist-packages/tornado/gen.py\", line 786, in run\n\n  File \"/usr/local/lib/python3.10/dist-packages/ipykernel/kernelbase.py\", line 361, in process_one\n\n  File \"/usr/local/lib/python3.10/dist-packages/tornado/gen.py\", line 234, in wrapper\n\n  File \"/usr/local/lib/python3.10/dist-packages/ipykernel/kernelbase.py\", line 261, in dispatch_shell\n\n  File \"/usr/local/lib/python3.10/dist-packages/tornado/gen.py\", line 234, in wrapper\n\n  File \"/usr/local/lib/python3.10/dist-packages/ipykernel/kernelbase.py\", line 539, in execute_request\n\n  File \"/usr/local/lib/python3.10/dist-packages/tornado/gen.py\", line 234, in wrapper\n\n  File \"/usr/local/lib/python3.10/dist-packages/ipykernel/ipkernel.py\", line 302, in do_execute\n\n  File \"/usr/local/lib/python3.10/dist-packages/ipykernel/zmqshell.py\", line 539, in run_cell\n\n  File \"/usr/local/lib/python3.10/dist-packages/IPython/core/interactiveshell.py\", line 2975, in run_cell\n\n  File \"/usr/local/lib/python3.10/dist-packages/IPython/core/interactiveshell.py\", line 3030, in _run_cell\n\n  File \"/usr/local/lib/python3.10/dist-packages/IPython/core/async_helpers.py\", line 78, in _pseudo_sync_runner\n\n  File \"/usr/local/lib/python3.10/dist-packages/IPython/core/interactiveshell.py\", line 3257, in run_cell_async\n\n  File \"/usr/local/lib/python3.10/dist-packages/IPython/core/interactiveshell.py\", line 3473, in run_ast_nodes\n\n  File \"/usr/local/lib/python3.10/dist-packages/IPython/core/interactiveshell.py\", line 3553, in run_code\n\n  File \"<ipython-input-21-48ae2aee800e>\", line 1, in <cell line: 1>\n\n  File \"<ipython-input-20-ec4b288c97b4>\", line 12, in main\n\n  File \"/usr/local/lib/python3.10/dist-packages/keras/src/utils/traceback_utils.py\", line 65, in error_handler\n\n  File \"/usr/local/lib/python3.10/dist-packages/keras/src/engine/training.py\", line 1783, in fit\n\n  File \"/usr/local/lib/python3.10/dist-packages/keras/src/engine/training.py\", line 1377, in train_function\n\n  File \"/usr/local/lib/python3.10/dist-packages/keras/src/engine/training.py\", line 1360, in step_function\n\n  File \"/usr/local/lib/python3.10/dist-packages/keras/src/engine/training.py\", line 1349, in run_step\n\n  File \"/usr/local/lib/python3.10/dist-packages/keras/src/engine/training.py\", line 1127, in train_step\n\n  File \"/usr/local/lib/python3.10/dist-packages/keras/src/engine/training.py\", line 1185, in compute_loss\n\n  File \"/usr/local/lib/python3.10/dist-packages/keras/src/engine/compile_utils.py\", line 277, in __call__\n\n  File \"/usr/local/lib/python3.10/dist-packages/keras/src/losses.py\", line 143, in __call__\n\n  File \"/usr/local/lib/python3.10/dist-packages/keras/src/losses.py\", line 270, in call\n\n  File \"/usr/local/lib/python3.10/dist-packages/keras/src/losses.py\", line 2454, in sparse_categorical_crossentropy\n\n  File \"/usr/local/lib/python3.10/dist-packages/keras/src/backend.py\", line 5777, in sparse_categorical_crossentropy\n\nlogits and labels must have the same first dimension, got logits shape [5321,5] and labels shape [17]\n\t [[{{node sparse_categorical_crossentropy/SparseSoftmaxCrossEntropyWithLogits/SparseSoftmaxCrossEntropyWithLogits}}]] [Op:__inference_train_function_4188]"
          ]
        }
      ]
    },
    {
      "cell_type": "code",
      "source": [
        "def fitness_function(hyperparameter):\n",
        "    hyperparameter = encode(hyperparameter)\n",
        "    print(hyperparameter)\n",
        "    accuracy = main(*hyperparameter)\n",
        "    return accuracy"
      ],
      "metadata": {
        "id": "rQOj8l_9bcOj"
      },
      "execution_count": null,
      "outputs": []
    },
    {
      "cell_type": "code",
      "source": [
        "def mutation(domain, schedule, prob):\n",
        "  gene = random.randint(0, len(domain) - 1)\n",
        "  #print(gene)\n",
        "  mutant = schedule\n",
        "  if random.random() < prob: # 0.02, 0.05\n",
        "    if schedule[gene] != domain[gene][0]:\n",
        "      mutant = schedule[0:gene] + [schedule[gene] - 1] + schedule[gene + 1:]\n",
        "    else:\n",
        "      if schedule[gene] != domain[gene][1]:\n",
        "        mutant = schedule[0:gene] + [schedule[gene] + 1] + schedule[gene + 1:]\n",
        "  return mutant"
      ],
      "metadata": {
        "id": "LWPKCA_Gba-x"
      },
      "execution_count": null,
      "outputs": []
    },
    {
      "cell_type": "code",
      "source": [
        "def crossover(domain, individual1, individual2):\n",
        "  gene = random.randint(1, len(domain) - 2)\n",
        "  # print(gene)\n",
        "  return individual1[0:gene] + individual2[gene:]"
      ],
      "metadata": {
        "id": "6wJzPWddbZmK"
      },
      "execution_count": null,
      "outputs": []
    },
    {
      "cell_type": "markdown",
      "source": [
        "> perbaiki load dan save ambil 20 terakhir pake pandas\n",
        "\n",
        "> besok harus nulis\n",
        "\n",
        "> kasih nama row"
      ],
      "metadata": {
        "id": "HBVk--HohKEh"
      }
    },
    {
      "cell_type": "code",
      "source": [
        "import pandas as pd\n",
        "import csv\n",
        "import random"
      ],
      "metadata": {
        "id": "4ZwHA1lNmEYn"
      },
      "execution_count": null,
      "outputs": []
    },
    {
      "cell_type": "code",
      "source": [
        "# def load_population_from_csv(csv_filename):\n",
        "#     try:\n",
        "#         with open(csv_filename, 'r') as file:\n",
        "#             reader = csv.reader(file)\n",
        "#             header = next(reader)\n",
        "#             current_generation = int(header[0])\n",
        "#             population = [list(map(int, row)) for row in reader]\n",
        "#         return current_generation, population\n",
        "#     except FileNotFoundError:\n",
        "#         return None, None, None"
      ],
      "metadata": {
        "id": "Hd3fY_hrd-Lx"
      },
      "execution_count": null,
      "outputs": []
    },
    {
      "cell_type": "code",
      "source": [
        "def load_population_from_csv(csv_filename):\n",
        "  if os.path.exists(csv_filename):\n",
        "    reader = pd.read_csv(csv_filename)\n",
        "    last_twenty = reader.tail(20)\n",
        "    generation = last_twenty['Generation'].values[-1]\n",
        "    genes_columns = ['Gene_0', 'Gene_1', 'Gene_2', 'Gene_3']\n",
        "    population = last_twenty[genes_columns].values.tolist()\n",
        "    return generation,population\n",
        "  else:\n",
        "    return 0,None"
      ],
      "metadata": {
        "id": "kTIBHONomHO2"
      },
      "execution_count": null,
      "outputs": []
    },
    {
      "cell_type": "code",
      "source": [
        "def save_population_to_csv(csv_filename, current_generation, populations,resume):\n",
        "    with open(csv_filename, 'a+', newline='') as file:\n",
        "        writer = csv.writer(file)\n",
        "        if not resume:\n",
        "          writer.writerow([\"Generation\",] + [f\"Gene_{i}\" for i in range(len(populations[0]))])\n",
        "        for population in populations:\n",
        "          row = [current_generation,] + population\n",
        "          writer.writerow(row)"
      ],
      "metadata": {
        "id": "wkxS-D3_rQj6"
      },
      "execution_count": null,
      "outputs": []
    },
    {
      "cell_type": "code",
      "source": [
        "# save_population_to_csv('/content/drive/MyDrive/Colab Notebooks/results_csv/x_test_base.csv',1,[[1,2,3,4],[1,2,3,4]],True)"
      ],
      "metadata": {
        "id": "lLV3HdtZnYi6"
      },
      "execution_count": null,
      "outputs": []
    },
    {
      "cell_type": "code",
      "source": [
        "def genetic_algorithm(domain, fitness_function, csv_filename,resume, population_size=20, elitism=0.2,\n",
        "                      number_of_generations=5, mutation_probability=0.05):\n",
        "    current_generation,population = load_population_from_csv(csv_filename)\n",
        "    if population is None:\n",
        "        population = []\n",
        "        for i in range(population_size):\n",
        "            individual = [random.randint(domain[i][0], domain[i][1]) for i in range(len(domain))]\n",
        "            population.append(individual)\n",
        "\n",
        "    number_elitism = int(elitism * population_size)\n",
        "    # for i in range(number_of_generations):\n",
        "    while current_generation < number_of_generations:\n",
        "\n",
        "        costs = [(fitness_function(individual), individual) for individual in population]\n",
        "\n",
        "        costs.sort(reverse=True)\n",
        "        ordered_individuals = [individual for (cost, individual) in costs]\n",
        "        save_population_to_csv(csv_filename,current_generation,ordered_individuals,resume)\n",
        "        population = ordered_individuals[0:number_elitism]\n",
        "        while len(population) < population_size:\n",
        "            i1 = random.randint(0, number_elitism)\n",
        "            i2 = random.randint(0, number_elitism)\n",
        "            new_individual = crossover(domain, ordered_individuals[i1], ordered_individuals[i2])\n",
        "            new_individual_mutation = mutation(domain, new_individual, mutation_probability)\n",
        "            population.append(new_individual_mutation)\n",
        "        current_generation+=1\n",
        "        resume  = True\n",
        "    return costs[0][1]"
      ],
      "metadata": {
        "id": "RCH3908wZtAk"
      },
      "execution_count": null,
      "outputs": []
    },
    {
      "cell_type": "code",
      "source": [
        "def encode(gene):\n",
        "  first_gene = gene[:3]\n",
        "  second_gene = gene[3:]\n",
        "  model_types = {0:\"LSTM\",1:\"dense\",2:\"OneD_CNN\",3:\"TRISTOUNET\"}\n",
        "  extract_types = {0:\"MFCC\",1:\"concatenate\"}\n",
        "  splits = {0:0.3,1:0.2,2:0.1}\n",
        "  index_dict = [model_types,extract_types,splits]\n",
        "  return [dict_place[index] for index,dict_place in zip(first_gene,index_dict)] + second_gene"
      ],
      "metadata": {
        "id": "FMKedBGybk-c"
      },
      "execution_count": null,
      "outputs": []
    },
    {
      "cell_type": "code",
      "source": [
        "def decode(gene):\n",
        "  first_gene = gene[:3]\n",
        "  second_gene = gene[3:]\n",
        "  model_types = {\"LSTM\":0,\"dense\":1,\"OneD_CNN\":2,\"TRISTOUNET\":3}\n",
        "  extract_types = {\"MFCC\":0,\"concatenate\":1}\n",
        "  splits = {0.3:0,0.2:1,0.1:2}\n",
        "  index_dict = [model_types,extract_types,splits]\n",
        "  return [dict_place[index] for index,dict_place in zip(first_gene,index_dict)]+ second_gene"
      ],
      "metadata": {
        "id": "W5L6flXubmSM"
      },
      "execution_count": null,
      "outputs": []
    },
    {
      "cell_type": "code",
      "source": [
        "domain = [(0, 3), (0, 1),(0, 2),(1, 6)]\n",
        "result = genetic_algorithm(domain, fitness_function, '/content/drive/MyDrive/Colab Notebooks/results_csv/test_base.csv',False)\n",
        "print(\"Best solution:\", result)"
      ],
      "metadata": {
        "colab": {
          "base_uri": "https://localhost:8080/",
          "height": 1000
        },
        "id": "2F9Z00HbsOVi",
        "outputId": "0fdcbfbc-76df-4a7a-e565-36f9f944bc29"
      },
      "execution_count": null,
      "outputs": [
        {
          "output_type": "stream",
          "name": "stdout",
          "text": [
            "['dense', 'concatenate', 0.3, 3]\n",
            "Epoch 1/50\n"
          ]
        },
        {
          "output_type": "error",
          "ename": "InvalidArgumentError",
          "evalue": "ignored",
          "traceback": [
            "\u001b[0;31m---------------------------------------------------------------------------\u001b[0m",
            "\u001b[0;31mInvalidArgumentError\u001b[0m                      Traceback (most recent call last)",
            "\u001b[0;32m<ipython-input-36-2d30f80ea959>\u001b[0m in \u001b[0;36m<cell line: 2>\u001b[0;34m()\u001b[0m\n\u001b[1;32m      1\u001b[0m \u001b[0mdomain\u001b[0m \u001b[0;34m=\u001b[0m \u001b[0;34m[\u001b[0m\u001b[0;34m(\u001b[0m\u001b[0;36m0\u001b[0m\u001b[0;34m,\u001b[0m \u001b[0;36m3\u001b[0m\u001b[0;34m)\u001b[0m\u001b[0;34m,\u001b[0m \u001b[0;34m(\u001b[0m\u001b[0;36m0\u001b[0m\u001b[0;34m,\u001b[0m \u001b[0;36m1\u001b[0m\u001b[0;34m)\u001b[0m\u001b[0;34m,\u001b[0m\u001b[0;34m(\u001b[0m\u001b[0;36m0\u001b[0m\u001b[0;34m,\u001b[0m \u001b[0;36m2\u001b[0m\u001b[0;34m)\u001b[0m\u001b[0;34m,\u001b[0m\u001b[0;34m(\u001b[0m\u001b[0;36m1\u001b[0m\u001b[0;34m,\u001b[0m \u001b[0;36m6\u001b[0m\u001b[0;34m)\u001b[0m\u001b[0;34m]\u001b[0m\u001b[0;34m\u001b[0m\u001b[0;34m\u001b[0m\u001b[0m\n\u001b[0;32m----> 2\u001b[0;31m \u001b[0mresult\u001b[0m \u001b[0;34m=\u001b[0m \u001b[0mgenetic_algorithm\u001b[0m\u001b[0;34m(\u001b[0m\u001b[0mdomain\u001b[0m\u001b[0;34m,\u001b[0m \u001b[0mfitness_function\u001b[0m\u001b[0;34m,\u001b[0m \u001b[0;34m'/content/drive/MyDrive/Colab Notebooks/results_csv/test_base.csv'\u001b[0m\u001b[0;34m,\u001b[0m\u001b[0;32mFalse\u001b[0m\u001b[0;34m)\u001b[0m\u001b[0;34m\u001b[0m\u001b[0;34m\u001b[0m\u001b[0m\n\u001b[0m\u001b[1;32m      3\u001b[0m \u001b[0mprint\u001b[0m\u001b[0;34m(\u001b[0m\u001b[0;34m\"Best solution:\"\u001b[0m\u001b[0;34m,\u001b[0m \u001b[0mresult\u001b[0m\u001b[0;34m)\u001b[0m\u001b[0;34m\u001b[0m\u001b[0;34m\u001b[0m\u001b[0m\n",
            "\u001b[0;32m<ipython-input-27-6a91c0aedbd8>\u001b[0m in \u001b[0;36mgenetic_algorithm\u001b[0;34m(domain, fitness_function, csv_filename, resume, population_size, elitism, number_of_generations, mutation_probability)\u001b[0m\n\u001b[1;32m     12\u001b[0m     \u001b[0;32mwhile\u001b[0m \u001b[0mcurrent_generation\u001b[0m \u001b[0;34m<\u001b[0m \u001b[0mnumber_of_generations\u001b[0m\u001b[0;34m:\u001b[0m\u001b[0;34m\u001b[0m\u001b[0;34m\u001b[0m\u001b[0m\n\u001b[1;32m     13\u001b[0m \u001b[0;34m\u001b[0m\u001b[0m\n\u001b[0;32m---> 14\u001b[0;31m         \u001b[0mcosts\u001b[0m \u001b[0;34m=\u001b[0m \u001b[0;34m[\u001b[0m\u001b[0;34m(\u001b[0m\u001b[0mfitness_function\u001b[0m\u001b[0;34m(\u001b[0m\u001b[0mindividual\u001b[0m\u001b[0;34m)\u001b[0m\u001b[0;34m,\u001b[0m \u001b[0mindividual\u001b[0m\u001b[0;34m)\u001b[0m \u001b[0;32mfor\u001b[0m \u001b[0mindividual\u001b[0m \u001b[0;32min\u001b[0m \u001b[0mpopulation\u001b[0m\u001b[0;34m]\u001b[0m\u001b[0;34m\u001b[0m\u001b[0;34m\u001b[0m\u001b[0m\n\u001b[0m\u001b[1;32m     15\u001b[0m \u001b[0;34m\u001b[0m\u001b[0m\n\u001b[1;32m     16\u001b[0m         \u001b[0mcosts\u001b[0m\u001b[0;34m.\u001b[0m\u001b[0msort\u001b[0m\u001b[0;34m(\u001b[0m\u001b[0mreverse\u001b[0m\u001b[0;34m=\u001b[0m\u001b[0;32mTrue\u001b[0m\u001b[0;34m)\u001b[0m\u001b[0;34m\u001b[0m\u001b[0;34m\u001b[0m\u001b[0m\n",
            "\u001b[0;32m<ipython-input-27-6a91c0aedbd8>\u001b[0m in \u001b[0;36m<listcomp>\u001b[0;34m(.0)\u001b[0m\n\u001b[1;32m     12\u001b[0m     \u001b[0;32mwhile\u001b[0m \u001b[0mcurrent_generation\u001b[0m \u001b[0;34m<\u001b[0m \u001b[0mnumber_of_generations\u001b[0m\u001b[0;34m:\u001b[0m\u001b[0;34m\u001b[0m\u001b[0;34m\u001b[0m\u001b[0m\n\u001b[1;32m     13\u001b[0m \u001b[0;34m\u001b[0m\u001b[0m\n\u001b[0;32m---> 14\u001b[0;31m         \u001b[0mcosts\u001b[0m \u001b[0;34m=\u001b[0m \u001b[0;34m[\u001b[0m\u001b[0;34m(\u001b[0m\u001b[0mfitness_function\u001b[0m\u001b[0;34m(\u001b[0m\u001b[0mindividual\u001b[0m\u001b[0;34m)\u001b[0m\u001b[0;34m,\u001b[0m \u001b[0mindividual\u001b[0m\u001b[0;34m)\u001b[0m \u001b[0;32mfor\u001b[0m \u001b[0mindividual\u001b[0m \u001b[0;32min\u001b[0m \u001b[0mpopulation\u001b[0m\u001b[0;34m]\u001b[0m\u001b[0;34m\u001b[0m\u001b[0;34m\u001b[0m\u001b[0m\n\u001b[0m\u001b[1;32m     15\u001b[0m \u001b[0;34m\u001b[0m\u001b[0m\n\u001b[1;32m     16\u001b[0m         \u001b[0mcosts\u001b[0m\u001b[0;34m.\u001b[0m\u001b[0msort\u001b[0m\u001b[0;34m(\u001b[0m\u001b[0mreverse\u001b[0m\u001b[0;34m=\u001b[0m\u001b[0;32mTrue\u001b[0m\u001b[0;34m)\u001b[0m\u001b[0;34m\u001b[0m\u001b[0;34m\u001b[0m\u001b[0m\n",
            "\u001b[0;32m<ipython-input-35-8199aca78ec8>\u001b[0m in \u001b[0;36mfitness_function\u001b[0;34m(hyperparameter)\u001b[0m\n\u001b[1;32m      2\u001b[0m     \u001b[0mhyperparameter\u001b[0m \u001b[0;34m=\u001b[0m \u001b[0mencode\u001b[0m\u001b[0;34m(\u001b[0m\u001b[0mhyperparameter\u001b[0m\u001b[0;34m)\u001b[0m\u001b[0;34m\u001b[0m\u001b[0;34m\u001b[0m\u001b[0m\n\u001b[1;32m      3\u001b[0m     \u001b[0mprint\u001b[0m\u001b[0;34m(\u001b[0m\u001b[0mhyperparameter\u001b[0m\u001b[0;34m)\u001b[0m\u001b[0;34m\u001b[0m\u001b[0;34m\u001b[0m\u001b[0m\n\u001b[0;32m----> 4\u001b[0;31m     \u001b[0maccuracy\u001b[0m \u001b[0;34m=\u001b[0m \u001b[0mmain\u001b[0m\u001b[0;34m(\u001b[0m\u001b[0;34m*\u001b[0m\u001b[0mhyperparameter\u001b[0m\u001b[0;34m)\u001b[0m\u001b[0;34m\u001b[0m\u001b[0;34m\u001b[0m\u001b[0m\n\u001b[0m\u001b[1;32m      5\u001b[0m     \u001b[0;32mreturn\u001b[0m \u001b[0maccuracy\u001b[0m\u001b[0;34m\u001b[0m\u001b[0;34m\u001b[0m\u001b[0m\n",
            "\u001b[0;32m<ipython-input-10-429d9992866c>\u001b[0m in \u001b[0;36mmain\u001b[0;34m(extract_type, model_name, split, lr)\u001b[0m\n\u001b[1;32m      8\u001b[0m   \u001b[0mmodel\u001b[0m \u001b[0;34m=\u001b[0m \u001b[0mmodel_type\u001b[0m\u001b[0;34m(\u001b[0m\u001b[0mmodel_name\u001b[0m\u001b[0;34m)\u001b[0m\u001b[0;34m\u001b[0m\u001b[0;34m\u001b[0m\u001b[0m\n\u001b[1;32m      9\u001b[0m   \u001b[0mmodel\u001b[0m\u001b[0;34m.\u001b[0m\u001b[0mcompile\u001b[0m\u001b[0;34m(\u001b[0m\u001b[0mloss\u001b[0m\u001b[0;34m=\u001b[0m\u001b[0;34m'sparse_categorical_crossentropy'\u001b[0m\u001b[0;34m,\u001b[0m \u001b[0moptimizer\u001b[0m\u001b[0;34m=\u001b[0m\u001b[0mtf\u001b[0m\u001b[0;34m.\u001b[0m\u001b[0mkeras\u001b[0m\u001b[0;34m.\u001b[0m\u001b[0moptimizers\u001b[0m\u001b[0;34m.\u001b[0m\u001b[0mAdam\u001b[0m\u001b[0;34m(\u001b[0m\u001b[0mlearning_rate\u001b[0m\u001b[0;34m=\u001b[0m\u001b[0mlr\u001b[0m\u001b[0;34m)\u001b[0m\u001b[0;34m,\u001b[0m \u001b[0mmetrics\u001b[0m\u001b[0;34m=\u001b[0m\u001b[0;34m[\u001b[0m\u001b[0;34m'accuracy'\u001b[0m\u001b[0;34m]\u001b[0m\u001b[0;34m)\u001b[0m\u001b[0;34m\u001b[0m\u001b[0;34m\u001b[0m\u001b[0m\n\u001b[0;32m---> 10\u001b[0;31m   \u001b[0mhistory\u001b[0m \u001b[0;34m=\u001b[0m \u001b[0mmodel\u001b[0m\u001b[0;34m.\u001b[0m\u001b[0mfit\u001b[0m\u001b[0;34m(\u001b[0m\u001b[0mX_train\u001b[0m\u001b[0;34m,\u001b[0m \u001b[0my_train\u001b[0m\u001b[0;34m,\u001b[0m \u001b[0mvalidation_data\u001b[0m\u001b[0;34m=\u001b[0m\u001b[0;34m(\u001b[0m\u001b[0mX_validation\u001b[0m\u001b[0;34m,\u001b[0m \u001b[0my_validation\u001b[0m\u001b[0;34m)\u001b[0m\u001b[0;34m,\u001b[0m \u001b[0mbatch_size\u001b[0m\u001b[0;34m=\u001b[0m\u001b[0;36m32\u001b[0m\u001b[0;34m,\u001b[0m \u001b[0mepochs\u001b[0m\u001b[0;34m=\u001b[0m\u001b[0;36m50\u001b[0m\u001b[0;34m,\u001b[0m\u001b[0mcallbacks\u001b[0m\u001b[0;34m=\u001b[0m\u001b[0;34m[\u001b[0m\u001b[0mtb_callback\u001b[0m\u001b[0;34m]\u001b[0m\u001b[0;34m)\u001b[0m\u001b[0;34m\u001b[0m\u001b[0;34m\u001b[0m\u001b[0m\n\u001b[0m\u001b[1;32m     11\u001b[0m   \u001b[0mtest_loss\u001b[0m\u001b[0;34m,\u001b[0m \u001b[0mtest_accuracy\u001b[0m \u001b[0;34m=\u001b[0m \u001b[0mmodel\u001b[0m\u001b[0;34m.\u001b[0m\u001b[0mevaluate\u001b[0m\u001b[0;34m(\u001b[0m\u001b[0mX_test\u001b[0m\u001b[0;34m,\u001b[0m \u001b[0my_test\u001b[0m\u001b[0;34m)\u001b[0m\u001b[0;34m\u001b[0m\u001b[0;34m\u001b[0m\u001b[0m\n\u001b[1;32m     12\u001b[0m   \u001b[0;32mreturn\u001b[0m \u001b[0mhistory\u001b[0m\u001b[0;34m.\u001b[0m\u001b[0mhistory\u001b[0m\u001b[0;34m[\u001b[0m\u001b[0;34m'accuracy'\u001b[0m\u001b[0;34m]\u001b[0m\u001b[0;34m,\u001b[0m \u001b[0mtest_loss\u001b[0m\u001b[0;34m,\u001b[0m \u001b[0mtest_accuracy\u001b[0m\u001b[0;34m\u001b[0m\u001b[0;34m\u001b[0m\u001b[0m\n",
            "\u001b[0;32m/usr/local/lib/python3.10/dist-packages/keras/src/utils/traceback_utils.py\u001b[0m in \u001b[0;36merror_handler\u001b[0;34m(*args, **kwargs)\u001b[0m\n\u001b[1;32m     68\u001b[0m             \u001b[0;31m# To get the full stack trace, call:\u001b[0m\u001b[0;34m\u001b[0m\u001b[0;34m\u001b[0m\u001b[0m\n\u001b[1;32m     69\u001b[0m             \u001b[0;31m# `tf.debugging.disable_traceback_filtering()`\u001b[0m\u001b[0;34m\u001b[0m\u001b[0;34m\u001b[0m\u001b[0m\n\u001b[0;32m---> 70\u001b[0;31m             \u001b[0;32mraise\u001b[0m \u001b[0me\u001b[0m\u001b[0;34m.\u001b[0m\u001b[0mwith_traceback\u001b[0m\u001b[0;34m(\u001b[0m\u001b[0mfiltered_tb\u001b[0m\u001b[0;34m)\u001b[0m \u001b[0;32mfrom\u001b[0m \u001b[0;32mNone\u001b[0m\u001b[0;34m\u001b[0m\u001b[0;34m\u001b[0m\u001b[0m\n\u001b[0m\u001b[1;32m     71\u001b[0m         \u001b[0;32mfinally\u001b[0m\u001b[0;34m:\u001b[0m\u001b[0;34m\u001b[0m\u001b[0;34m\u001b[0m\u001b[0m\n\u001b[1;32m     72\u001b[0m             \u001b[0;32mdel\u001b[0m \u001b[0mfiltered_tb\u001b[0m\u001b[0;34m\u001b[0m\u001b[0;34m\u001b[0m\u001b[0m\n",
            "\u001b[0;32m/usr/local/lib/python3.10/dist-packages/tensorflow/python/eager/execute.py\u001b[0m in \u001b[0;36mquick_execute\u001b[0;34m(op_name, num_outputs, inputs, attrs, ctx, name)\u001b[0m\n\u001b[1;32m     58\u001b[0m         \u001b[0;32mfor\u001b[0m \u001b[0mt\u001b[0m \u001b[0;32min\u001b[0m \u001b[0minputs\u001b[0m\u001b[0;34m\u001b[0m\u001b[0;34m\u001b[0m\u001b[0m\n\u001b[1;32m     59\u001b[0m     ]\n\u001b[0;32m---> 60\u001b[0;31m     tensors = pywrap_tfe.TFE_Py_Execute(ctx._handle, device_name, op_name,\n\u001b[0m\u001b[1;32m     61\u001b[0m                                         inputs, attrs, num_outputs)\n\u001b[1;32m     62\u001b[0m   \u001b[0;32mexcept\u001b[0m \u001b[0mcore\u001b[0m\u001b[0;34m.\u001b[0m\u001b[0m_NotOkStatusException\u001b[0m \u001b[0;32mas\u001b[0m \u001b[0me\u001b[0m\u001b[0;34m:\u001b[0m\u001b[0;34m\u001b[0m\u001b[0;34m\u001b[0m\u001b[0m\n",
            "\u001b[0;31mInvalidArgumentError\u001b[0m: Graph execution error:\n\nDetected at node sparse_categorical_crossentropy/SparseSoftmaxCrossEntropyWithLogits/SparseSoftmaxCrossEntropyWithLogits defined at (most recent call last):\n  File \"/usr/lib/python3.10/runpy.py\", line 196, in _run_module_as_main\n\n  File \"/usr/lib/python3.10/runpy.py\", line 86, in _run_code\n\n  File \"/usr/local/lib/python3.10/dist-packages/colab_kernel_launcher.py\", line 37, in <module>\n\n  File \"/usr/local/lib/python3.10/dist-packages/traitlets/config/application.py\", line 992, in launch_instance\n\n  File \"/usr/local/lib/python3.10/dist-packages/ipykernel/kernelapp.py\", line 619, in start\n\n  File \"/usr/local/lib/python3.10/dist-packages/tornado/platform/asyncio.py\", line 195, in start\n\n  File \"/usr/lib/python3.10/asyncio/base_events.py\", line 603, in run_forever\n\n  File \"/usr/lib/python3.10/asyncio/base_events.py\", line 1909, in _run_once\n\n  File \"/usr/lib/python3.10/asyncio/events.py\", line 80, in _run\n\n  File \"/usr/local/lib/python3.10/dist-packages/tornado/ioloop.py\", line 685, in <lambda>\n\n  File \"/usr/local/lib/python3.10/dist-packages/tornado/ioloop.py\", line 738, in _run_callback\n\n  File \"/usr/local/lib/python3.10/dist-packages/tornado/gen.py\", line 825, in inner\n\n  File \"/usr/local/lib/python3.10/dist-packages/tornado/gen.py\", line 786, in run\n\n  File \"/usr/local/lib/python3.10/dist-packages/ipykernel/kernelbase.py\", line 361, in process_one\n\n  File \"/usr/local/lib/python3.10/dist-packages/tornado/gen.py\", line 234, in wrapper\n\n  File \"/usr/local/lib/python3.10/dist-packages/ipykernel/kernelbase.py\", line 261, in dispatch_shell\n\n  File \"/usr/local/lib/python3.10/dist-packages/tornado/gen.py\", line 234, in wrapper\n\n  File \"/usr/local/lib/python3.10/dist-packages/ipykernel/kernelbase.py\", line 539, in execute_request\n\n  File \"/usr/local/lib/python3.10/dist-packages/tornado/gen.py\", line 234, in wrapper\n\n  File \"/usr/local/lib/python3.10/dist-packages/ipykernel/ipkernel.py\", line 302, in do_execute\n\n  File \"/usr/local/lib/python3.10/dist-packages/ipykernel/zmqshell.py\", line 539, in run_cell\n\n  File \"/usr/local/lib/python3.10/dist-packages/IPython/core/interactiveshell.py\", line 2975, in run_cell\n\n  File \"/usr/local/lib/python3.10/dist-packages/IPython/core/interactiveshell.py\", line 3030, in _run_cell\n\n  File \"/usr/local/lib/python3.10/dist-packages/IPython/core/async_helpers.py\", line 78, in _pseudo_sync_runner\n\n  File \"/usr/local/lib/python3.10/dist-packages/IPython/core/interactiveshell.py\", line 3257, in run_cell_async\n\n  File \"/usr/local/lib/python3.10/dist-packages/IPython/core/interactiveshell.py\", line 3473, in run_ast_nodes\n\n  File \"/usr/local/lib/python3.10/dist-packages/IPython/core/interactiveshell.py\", line 3553, in run_code\n\n  File \"<ipython-input-36-2d30f80ea959>\", line 2, in <cell line: 2>\n\n  File \"<ipython-input-27-6a91c0aedbd8>\", line 14, in genetic_algorithm\n\n  File \"<ipython-input-27-6a91c0aedbd8>\", line 14, in <listcomp>\n\n  File \"<ipython-input-35-8199aca78ec8>\", line 4, in fitness_function\n\n  File \"<ipython-input-10-429d9992866c>\", line 10, in main\n\n  File \"/usr/local/lib/python3.10/dist-packages/keras/src/utils/traceback_utils.py\", line 65, in error_handler\n\n  File \"/usr/local/lib/python3.10/dist-packages/keras/src/engine/training.py\", line 1783, in fit\n\n  File \"/usr/local/lib/python3.10/dist-packages/keras/src/engine/training.py\", line 1377, in train_function\n\n  File \"/usr/local/lib/python3.10/dist-packages/keras/src/engine/training.py\", line 1360, in step_function\n\n  File \"/usr/local/lib/python3.10/dist-packages/keras/src/engine/training.py\", line 1349, in run_step\n\n  File \"/usr/local/lib/python3.10/dist-packages/keras/src/engine/training.py\", line 1127, in train_step\n\n  File \"/usr/local/lib/python3.10/dist-packages/keras/src/engine/training.py\", line 1185, in compute_loss\n\n  File \"/usr/local/lib/python3.10/dist-packages/keras/src/engine/compile_utils.py\", line 277, in __call__\n\n  File \"/usr/local/lib/python3.10/dist-packages/keras/src/losses.py\", line 143, in __call__\n\n  File \"/usr/local/lib/python3.10/dist-packages/keras/src/losses.py\", line 270, in call\n\n  File \"/usr/local/lib/python3.10/dist-packages/keras/src/losses.py\", line 2454, in sparse_categorical_crossentropy\n\n  File \"/usr/local/lib/python3.10/dist-packages/keras/src/backend.py\", line 5777, in sparse_categorical_crossentropy\n\nlogits and labels must have the same first dimension, got logits shape [10016,6] and labels shape [32]\n\t [[{{node sparse_categorical_crossentropy/SparseSoftmaxCrossEntropyWithLogits/SparseSoftmaxCrossEntropyWithLogits}}]] [Op:__inference_train_function_1841]"
          ]
        }
      ]
    },
    {
      "cell_type": "code",
      "source": [
        "# 'https://openaccess.thecvf.com/content/CVPR2022W/WAD/papers/Marinello_TripletTrack_3D_Object_Tracking_Using_Triplet_Embeddings_and_LSTM_CVPRW_2022_paper.pdf'"
      ],
      "metadata": {
        "id": "lvmel7o20c43"
      },
      "execution_count": null,
      "outputs": []
    },
    {
      "cell_type": "code",
      "source": [
        "%reload_ext tensorboard\n",
        "%tensorboard --logdir=Graph"
      ],
      "metadata": {
        "colab": {
          "base_uri": "https://localhost:8080/",
          "height": 821
        },
        "id": "MpUDOyGIOntK",
        "outputId": "0d621b45-34e5-4f6b-e650-33c5117692be"
      },
      "execution_count": null,
      "outputs": [
        {
          "output_type": "display_data",
          "data": {
            "text/plain": [
              "<IPython.core.display.Javascript object>"
            ],
            "application/javascript": [
              "\n",
              "        (async () => {\n",
              "            const url = new URL(await google.colab.kernel.proxyPort(6006, {'cache': true}));\n",
              "            url.searchParams.set('tensorboardColab', 'true');\n",
              "            const iframe = document.createElement('iframe');\n",
              "            iframe.src = url;\n",
              "            iframe.setAttribute('width', '100%');\n",
              "            iframe.setAttribute('height', '800');\n",
              "            iframe.setAttribute('frameborder', 0);\n",
              "            document.body.appendChild(iframe);\n",
              "        })();\n",
              "    "
            ]
          },
          "metadata": {}
        }
      ]
    }
  ]
}